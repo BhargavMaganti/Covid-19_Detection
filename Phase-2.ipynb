{
 "cells": [
  {
   "cell_type": "markdown",
   "id": "headed-least",
   "metadata": {},
   "source": [
    "## IMPORTS"
   ]
  },
  {
   "cell_type": "code",
   "execution_count": 1,
   "id": "armed-curve",
   "metadata": {},
   "outputs": [],
   "source": [
    "import tensorflow as tf\n",
    "import numpy as np \n",
    "import pandas as pd\n",
    "import matplotlib.pyplot as plt\n",
    "import cv2\n",
    "import os"
   ]
  },
  {
   "cell_type": "code",
   "execution_count": 2,
   "id": "collaborative-shareware",
   "metadata": {},
   "outputs": [],
   "source": [
    "from functions_phase_2 import load_labels \n",
    "from functions_phase_2 import dataframe_generator\n",
    "from functions_phase_2 import index_generator\n",
    "from functions_phase_2 import train_index_updater\n",
    "from functions_phase_2 import valid_index_updater\n",
    "from functions_phase_2 import data_constructor"
   ]
  },
  {
   "cell_type": "markdown",
   "id": "selected-decade",
   "metadata": {},
   "source": [
    "## SETTING UP PARAMETERS AND DIRECTORIES"
   ]
  },
  {
   "cell_type": "code",
   "execution_count": 3,
   "id": "valid-guest",
   "metadata": {},
   "outputs": [],
   "source": [
    "SEED = 32\n",
    "IMG_HEIGHT = 128\n",
    "IMG_WIDTH = 128\n",
    "DIM = (IMG_HEIGHT, IMG_WIDTH)\n",
    "TRAIN_SET= 143778\n",
    "VALID_SET= 25486\n",
    "EPOCHS = 15\n",
    "BS = 32\n",
    "LR = 0.01\n",
    "label_file_train = \"C:\\project\\data\\\\train_COVIDx_CT-2A.txt\"\n",
    "label_file_valid = \"C:\\project\\data\\\\val_COVIDx_CT-2A.txt\""
   ]
  },
  {
   "cell_type": "markdown",
   "id": "little-summer",
   "metadata": {},
   "source": [
    "## LOADING DATA"
   ]
  },
  {
   "cell_type": "code",
   "execution_count": 4,
   "id": "curious-shelf",
   "metadata": {},
   "outputs": [
    {
     "data": {
      "image/png": "[encoded data removed]",
      "text/plain": [
       "<Figure size 432x288 with 1 Axes>"
      ]
     },
     "metadata": {
      "needs_background": "light"
     },
     "output_type": "display_data"
    }
   ],
   "source": [
    "fnames_train , classes_train ,bboxes_train = load_labels(label_file_train)\n",
    "fnames_valid , classes_valid ,bboxes_valid = load_labels(label_file_valid)\n",
    "train_index = index_generator(fnames_train , TRAIN_SET)\n",
    "valid_index = index_generator(fnames_valid , VALID_SET)\n",
    "train_index_updated = train_index_updater(classes_train,train_index )\n",
    "valid_index_updated = valid_index_updater(classes_valid, valid_index)\n",
    "df = dataframe_generator(train_index_updated , valid_index_updated , classes_train , classes_valid)\n",
    "df.plot.bar( title = \"Image Distribution\" );"
   ]
  },
  {
   "cell_type": "markdown",
   "id": "neutral-wallace",
   "metadata": {},
   "source": [
    "## Loading Training and Validation Images"
   ]
  },
  {
   "cell_type": "code",
   "execution_count": 5,
   "id": "otherwise-market",
   "metadata": {},
   "outputs": [],
   "source": [
    "x_train, y_train = data_constructor(fnames_train,classes_train, DIM , index  =train_index_updated , bboxes = bboxes_train )\n",
    "x_valid , y_valid= data_constructor(fnames_valid,classes_valid, DIM , index  =valid_index_updated , bboxes = bboxes_valid )"
   ]
  },
  {
   "cell_type": "markdown",
   "id": "according-affect",
   "metadata": {},
   "source": [
    "## Pre-Processing"
   ]
  },
  {
   "cell_type": "code",
   "execution_count": 6,
   "id": "processed-replica",
   "metadata": {},
   "outputs": [],
   "source": [
    "x_train = tf.keras.applications.inception_v3.preprocess_input(x_train)\n",
    "x_valid = tf.keras.applications.inception_v3.preprocess_input(x_valid)"
   ]
  },
  {
   "cell_type": "code",
   "execution_count": 7,
   "id": "irish-medicaid",
   "metadata": {},
   "outputs": [],
   "source": [
    "data_generator = tf.keras.preprocessing.image.ImageDataGenerator(horizontal_flip=True,zoom_range=0.1,width_shift_range=0.1 ,height_shift_range=0.05,shear_range=0.05)\n",
    "train_generator = data_generator.flow(x_train, y_train, BS)\n",
    "spe = x_train.shape[0] // BS"
   ]
  },
  {
   "cell_type": "markdown",
   "id": "polished-dealer",
   "metadata": {},
   "source": [
    "## MODEL DESIGN"
   ]
  },
  {
   "cell_type": "code",
   "execution_count": 8,
   "id": "honest-declaration",
   "metadata": {},
   "outputs": [],
   "source": [
    "from tensorflow.keras.applications import InceptionV3\n",
    "from tensorflow.keras.layers import GlobalAveragePooling2D\n",
    "from tensorflow.keras.layers import Dropout\n",
    "from tensorflow.keras.layers import Dense\n",
    "from tensorflow.keras.layers import Input\n",
    "from tensorflow.keras.models import Model\n",
    "from tensorflow.keras.layers import Dropout"
   ]
  },
  {
   "cell_type": "code",
   "execution_count": 9,
   "id": "religious-creator",
   "metadata": {},
   "outputs": [],
   "source": [
    "base_model = InceptionV3(include_top=False,weights=\"imagenet\",input_shape=(IMG_HEIGHT,IMG_HEIGHT,3))\n",
    "model= tf.keras.Sequential()\n",
    "model.add(base_model) \n",
    "model.add(GlobalAveragePooling2D())\n",
    "model.add(Dense(128,activation=('relu'))) \n",
    "model.add(Dropout(.2))\n",
    "model.add(Dense(1,activation=('sigmoid')))"
   ]
  },
  {
   "cell_type": "markdown",
   "id": "fixed-shooting",
   "metadata": {},
   "source": [
    "## MODEL SUMMARY"
   ]
  },
  {
   "cell_type": "code",
   "execution_count": 10,
   "id": "joint-avenue",
   "metadata": {},
   "outputs": [
    {
     "name": "stdout",
     "output_type": "stream",
     "text": [
      "Model: \"sequential\"\n",
      "_________________________________________________________________\n",
      "Layer (type)                 Output Shape              Param #   \n",
      "=================================================================\n",
      "inception_v3 (Model)         (None, 2, 2, 2048)        21802784  \n",
      "_________________________________________________________________\n",
      "global_average_pooling2d (Gl (None, 2048)              0         \n",
      "_________________________________________________________________\n",
      "dense (Dense)                (None, 128)               262272    \n",
      "_________________________________________________________________\n",
      "dropout (Dropout)            (None, 128)               0         \n",
      "_________________________________________________________________\n",
      "dense_1 (Dense)              (None, 1)                 129       \n",
      "=================================================================\n",
      "Total params: 22,065,185\n",
      "Trainable params: 22,030,753\n",
      "Non-trainable params: 34,432\n",
      "_________________________________________________________________\n"
     ]
    }
   ],
   "source": [
    "model.summary()"
   ]
  },
  {
   "cell_type": "markdown",
   "id": "hidden-yesterday",
   "metadata": {},
   "source": [
    "## MODEL COMPILATION"
   ]
  },
  {
   "cell_type": "code",
   "execution_count": 11,
   "id": "radio-anime",
   "metadata": {},
   "outputs": [],
   "source": [
    "model.compile(optimizer=tf.keras.optimizers.SGD(LR),\n",
    "              loss = \"binary_crossentropy\",\n",
    "              metrics = [\"accuracy\"])"
   ]
  },
  {
   "cell_type": "markdown",
   "id": "motivated-manchester",
   "metadata": {},
   "source": [
    "## CALLBACKS"
   ]
  },
  {
   "cell_type": "code",
   "execution_count": 12,
   "id": "aerial-attachment",
   "metadata": {},
   "outputs": [],
   "source": [
    "from tensorflow.keras.callbacks import ModelCheckpoint\n",
    "modelsdir = \"models\"\n",
    "checkpoint = ModelCheckpoint(filepath = modelsdir + \"/SGD.{epoch:02d}-{val_accuracy:.4f}.h5\" ,\n",
    "                             monitor= \"val_accuracy\" , \n",
    "                             mode = \"max\",\n",
    "                            verbose = 0,\n",
    "                            save_best_only=True)"
   ]
  },
  {
   "cell_type": "markdown",
   "id": "studied-majority",
   "metadata": {},
   "source": [
    "## MODEL TRAINING"
   ]
  },
  {
   "cell_type": "code",
   "execution_count": 13,
   "id": "closed-wonder",
   "metadata": {},
   "outputs": [
    {
     "name": "stdout",
     "output_type": "stream",
     "text": [
      "WARNING:tensorflow:sample_weight modes were coerced from\n",
      "  ...\n",
      "    to  \n",
      "  ['...']\n",
      "Train for 1924 steps, validate on 19711 samples\n",
      "Epoch 1/15\n",
      "1924/1924 [==============================] - 297s 154ms/step - loss: 0.0697 - accuracy: 0.9762 - val_loss: 0.0174 - val_accuracy: 0.9941\n",
      "Epoch 2/15\n",
      "1924/1924 [==============================] - 284s 148ms/step - loss: 0.0180 - accuracy: 0.9942 - val_loss: 0.0139 - val_accuracy: 0.9950\n",
      "Epoch 3/15\n",
      "1924/1924 [==============================] - 283s 147ms/step - loss: 0.0100 - accuracy: 0.9969 - val_loss: 0.0144 - val_accuracy: 0.9951\n",
      "Epoch 4/15\n",
      "1924/1924 [==============================] - 285s 148ms/step - loss: 0.0068 - accuracy: 0.9979 - val_loss: 0.0052 - val_accuracy: 0.9982\n",
      "Epoch 5/15\n",
      "1924/1924 [==============================] - 290s 151ms/step - loss: 0.0056 - accuracy: 0.9983 - val_loss: 0.0062 - val_accuracy: 0.9982\n",
      "Epoch 6/15\n",
      "1924/1924 [==============================] - 286s 149ms/step - loss: 0.0045 - accuracy: 0.9986 - val_loss: 0.0058 - val_accuracy: 0.9983\n",
      "Epoch 7/15\n",
      "1924/1924 [==============================] - 290s 151ms/step - loss: 0.0039 - accuracy: 0.9987 - val_loss: 0.0042 - val_accuracy: 0.9990\n",
      "Epoch 8/15\n",
      "1924/1924 [==============================] - 288s 150ms/step - loss: 0.0025 - accuracy: 0.9992 - val_loss: 0.0045 - val_accuracy: 0.9988\n",
      "Epoch 9/15\n",
      "1924/1924 [==============================] - 295s 153ms/step - loss: 0.0020 - accuracy: 0.9994 - val_loss: 0.0028 - val_accuracy: 0.9992\n",
      "Epoch 10/15\n",
      "1924/1924 [==============================] - 283s 147ms/step - loss: 0.0023 - accuracy: 0.9991 - val_loss: 0.0112 - val_accuracy: 0.9964\n",
      "Epoch 11/15\n",
      "1924/1924 [==============================] - 286s 149ms/step - loss: 0.0017 - accuracy: 0.9995 - val_loss: 0.0062 - val_accuracy: 0.9982\n",
      "Epoch 12/15\n",
      "1924/1924 [==============================] - 279s 145ms/step - loss: 0.0017 - accuracy: 0.9994 - val_loss: 0.0042 - val_accuracy: 0.9989\n",
      "Epoch 13/15\n",
      "1924/1924 [==============================] - 286s 149ms/step - loss: 0.0010 - accuracy: 0.9997 - val_loss: 0.0031 - val_accuracy: 0.9991\n",
      "Epoch 14/15\n",
      "1924/1924 [==============================] - 287s 149ms/step - loss: 9.9348e-04 - accuracy: 0.9997 - val_loss: 0.0039 - val_accuracy: 0.9987\n",
      "Epoch 15/15\n",
      "1924/1924 [==============================] - 282s 147ms/step - loss: 5.9523e-04 - accuracy: 0.9998 - val_loss: 0.0027 - val_accuracy: 0.9992\n"
     ]
    }
   ],
   "source": [
    "r = model.fit(train_generator , validation_data=(x_valid, y_valid), steps_per_epoch = spe ,epochs=EPOCHS, callbacks = [checkpoint] )"
   ]
  },
  {
   "cell_type": "markdown",
   "id": "signal-green",
   "metadata": {},
   "source": [
    "## TRAINING PLOTS"
   ]
  },
  {
   "cell_type": "code",
   "execution_count": 14,
   "id": "transsexual-looking",
   "metadata": {},
   "outputs": [
    {
     "data": {
      "image/png": "[encoded data removed]",
      "text/plain": [
       "<Figure size 432x288 with 1 Axes>"
      ]
     },
     "metadata": {
      "needs_background": "light"
     },
     "output_type": "display_data"
    }
   ],
   "source": [
    "plt.plot(r.history[\"loss\"], label= \"Loss\")\n",
    "plt.plot(r.history[\"val_loss\"], label = \"val_Loss\")\n",
    "plt.legend();"
   ]
  },
  {
   "cell_type": "code",
   "execution_count": 15,
   "id": "another-general",
   "metadata": {},
   "outputs": [
    {
     "data": {
      "image/png": "[encoded data removed]",
      "text/plain": [
       "<Figure size 432x288 with 1 Axes>"
      ]
     },
     "metadata": {
      "needs_background": "light"
     },
     "output_type": "display_data"
    }
   ],
   "source": [
    "plt.plot(r.history[\"accuracy\"] ,label = \"Accuracy\")\n",
    "plt.plot(r.history[\"val_accuracy\"] ,label = \"Val_Accuracy\")\n",
    "plt.legend();"
   ]
  },
  {
   "cell_type": "code",
   "execution_count": 16,
   "id": "chemical-directive",
   "metadata": {},
   "outputs": [
    {
     "data": {
      "image/png": "[encoded data removed]",
      "text/plain": [
       "<Figure size 432x288 with 1 Axes>"
      ]
     },
     "metadata": {
      "needs_background": "light"
     },
     "output_type": "display_data"
    }
   ],
   "source": [
    "pd.DataFrame(r.history).plot();"
   ]
  },
  {
   "cell_type": "code",
   "execution_count": 17,
   "id": "conditional-fitting",
   "metadata": {},
   "outputs": [],
   "source": [
    "pd.DataFrame(r.history).to_csv(\"csv/inception.csv\",index=False)"
   ]
  },
  {
   "cell_type": "markdown",
   "id": "warming-phenomenon",
   "metadata": {},
   "source": [
    "## SAVING TRAINED MODEL"
   ]
  },
  {
   "cell_type": "code",
   "execution_count": 18,
   "id": "athletic-tribune",
   "metadata": {},
   "outputs": [],
   "source": [
    "model.save(\"models/Inception.h5\")"
   ]
  }
 ],
 "metadata": {
  "kernelspec": {
   "display_name": "Python 3",
   "language": "python",
   "name": "python3"
  },
  "language_info": {
   "codemirror_mode": {
    "name": "ipython",
    "version": 3
   },
   "file_extension": ".py",
   "mimetype": "text/x-python",
   "name": "python",
   "nbconvert_exporter": "python",
   "pygments_lexer": "ipython3",
   "version": "3.6.13"
  }
 },
 "nbformat": 4,
 "nbformat_minor": 5
}
