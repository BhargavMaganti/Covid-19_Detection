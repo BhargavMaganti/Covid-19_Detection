{
 "cells": [
  {
   "cell_type": "markdown",
   "id": "fallen-plasma",
   "metadata": {},
   "source": [
    "## Important Imports"
   ]
  },
  {
   "cell_type": "code",
   "execution_count": 1,
   "id": "quick-property",
   "metadata": {},
   "outputs": [],
   "source": [
    "import tensorflow as tf\n",
    "import numpy as np \n",
    "import pandas as pd\n",
    "import matplotlib.pyplot as plt\n",
    "import cv2\n",
    "from sklearn.metrics import confusion_matrix"
   ]
  },
  {
   "cell_type": "code",
   "execution_count": 2,
   "id": "golden-thread",
   "metadata": {},
   "outputs": [],
   "source": [
    "from test_functions import index_generator\n",
    "from test_functions import load_labels\n",
    "from test_functions import data_constructor\n",
    "from test_functions import dataframe_generator\n",
    "from test_functions import index_extractor\n",
    "from test_functions import plot_confusion_matrix\n",
    "from test_functions import phase1_labels_updater"
   ]
  },
  {
   "cell_type": "markdown",
   "id": "e7da1c96",
   "metadata": {},
   "source": [
    "## Setting up parameters and directories"
   ]
  },
  {
   "cell_type": "code",
   "execution_count": 3,
   "id": "upset-aruba",
   "metadata": {},
   "outputs": [],
   "source": [
    "IMG_HEIGHT = 128\n",
    "IMG_WIDTH = 128\n",
    "DIM = (128,128)\n",
    "TEST_SET= 25658\n",
    "SEED=12 \n",
    "label_file_test = \"C:\\project\\data\\\\test_COVIDx_CT-2A.txt\""
   ]
  },
  {
   "cell_type": "markdown",
   "id": "labeled-location",
   "metadata": {},
   "source": [
    "## Loading test data"
   ]
  },
  {
   "cell_type": "code",
   "execution_count": 4,
   "id": "leading-neutral",
   "metadata": {},
   "outputs": [
    {
     "name": "stdout",
     "output_type": "stream",
     "text": [
      "FINAL IMAGE COUNT:\n",
      "Total Training Images =  25658\n"
     ]
    },
    {
     "data": {
      "image/png": "[encoded data removed]",
      "text/plain": [
       "<Figure size 432x288 with 1 Axes>"
      ]
     },
     "metadata": {
      "needs_background": "light"
     },
     "output_type": "display_data"
    }
   ],
   "source": [
    "fnames_test , classes_test , bboxes_test = load_labels(label_file_test)\n",
    "test_index = index_generator(fnames_test , TEST_SET)\n",
    "df = dataframe_generator(test_index,classes_test)\n",
    "df.plot.bar( title = \"ORIGNAL\" );\n",
    "print(\"FINAL IMAGE COUNT:\")\n",
    "print(\"Total Training Images = \",len(test_index))"
   ]
  },
  {
   "cell_type": "markdown",
   "id": "2a1bc570",
   "metadata": {},
   "source": [
    "### Loading images for Phase - 1 testing"
   ]
  },
  {
   "cell_type": "code",
   "execution_count": 5,
   "id": "intellectual-opposition",
   "metadata": {},
   "outputs": [
    {
     "data": {
      "text/plain": [
       "((25658, 128, 128, 3), (25658,))"
      ]
     },
     "execution_count": 5,
     "metadata": {},
     "output_type": "execute_result"
    }
   ],
   "source": [
    "densenet_x, densenet_y = data_constructor(fnames_test,classes_test, DIM , index  =test_index , bboxes = bboxes_test)\n",
    "densenet_x = tf.keras.applications.densenet.preprocess_input(densenet_x)\n",
    "desnenet_y = phase1_labels_updater(densenet_y)\n",
    "densenet_x.shape , densenet_y.shape"
   ]
  },
  {
   "cell_type": "markdown",
   "id": "d8af4bd4",
   "metadata": {},
   "source": [
    "### Loading Phase-1 Trained Model"
   ]
  },
  {
   "cell_type": "code",
   "execution_count": 6,
   "id": "sixth-visiting",
   "metadata": {},
   "outputs": [
    {
     "name": "stdout",
     "output_type": "stream",
     "text": [
      "25658/25658 [==============================] - 72s 3ms/sample - loss: 0.0972 - accuracy: 0.9839\n"
     ]
    }
   ],
   "source": [
    "phase1_model = tf.keras.models.load_model(\"models/phase-1.h5\")\n",
    "densenet = phase1_model.evaluate(densenet_x, densenet_y)"
   ]
  },
  {
   "cell_type": "markdown",
   "id": "589d3ac9",
   "metadata": {},
   "source": [
    "### Predicting NON-COVID and COVID-19"
   ]
  },
  {
   "cell_type": "code",
   "execution_count": 7,
   "id": "excellent-california",
   "metadata": {},
   "outputs": [],
   "source": [
    "densenet_preds = phase1_model.predict(densenet_x)\n",
    "densenet_preds = np.rint(densenet_preds).astype(\"int\")\n",
    "densenet_preds= densenet_preds.reshape(TEST_SET)"
   ]
  },
  {
   "cell_type": "markdown",
   "id": "c65728ba",
   "metadata": {},
   "source": [
    "## CONFUSION MATRIX of PHASE -1 "
   ]
  },
  {
   "cell_type": "code",
   "execution_count": 8,
   "id": "29cbe311",
   "metadata": {},
   "outputs": [
    {
     "data": {
      "image/png": "[encoded data removed]",
      "text/plain": [
       "<Figure size 432x288 with 2 Axes>"
      ]
     },
     "metadata": {
      "needs_background": "light"
     },
     "output_type": "display_data"
    }
   ],
   "source": [
    "cm1 = confusion_matrix(densenet_y ,densenet_preds)\n",
    "plot_confusion_matrix(cm1,[\"Non-COVID\",\"COVID-19\"] )"
   ]
  },
  {
   "cell_type": "markdown",
   "id": "66e22995",
   "metadata": {},
   "source": [
    "### Extracting index for Phase-2 Testing"
   ]
  },
  {
   "cell_type": "code",
   "execution_count": 9,
   "id": "539e9ede",
   "metadata": {},
   "outputs": [],
   "source": [
    "index_0,index_02,index_20,index_21 = index_extractor(densenet_preds, densenet_y,  test_index ,classes_test)"
   ]
  },
  {
   "cell_type": "markdown",
   "id": "f017215a",
   "metadata": {},
   "source": [
    "### Passing True Positive from result of Phase-1 Testing to Phase-2 model"
   ]
  },
  {
   "cell_type": "code",
   "execution_count": 10,
   "id": "06cd2725",
   "metadata": {},
   "outputs": [
    {
     "data": {
      "text/plain": [
       "((19537, 128, 128, 3), (19537,))"
      ]
     },
     "execution_count": 10,
     "metadata": {},
     "output_type": "execute_result"
    }
   ],
   "source": [
    "inception_x, inception_y = data_constructor(fnames_test,classes_test, DIM , index  =index_0 , bboxes = bboxes_test)\n",
    "inception_x = tf.keras.applications.inception_v3.preprocess_input(inception_x)\n",
    "inception_x.shape , inception_y.shape"
   ]
  },
  {
   "cell_type": "code",
   "execution_count": 11,
   "id": "0d34d884",
   "metadata": {},
   "outputs": [
    {
     "name": "stdout",
     "output_type": "stream",
     "text": [
      "19537/19537 [==============================] - 28s 1ms/sample - loss: 8.4858e-04 - accuracy: 0.9998\n"
     ]
    }
   ],
   "source": [
    "phase2_model = tf.keras.models.load_model(\"models/phase-2.h5\")\n",
    "inception = phase2_model.evaluate(inception_x , inception_y)"
   ]
  },
  {
   "cell_type": "markdown",
   "id": "2a2b5adf",
   "metadata": {},
   "source": [
    "### Predicting Normal and Pnumonia "
   ]
  },
  {
   "cell_type": "code",
   "execution_count": 12,
   "id": "6e35f28a",
   "metadata": {},
   "outputs": [],
   "source": [
    "inception_preds = phase2_model.predict(inception_x)\n",
    "inception_preds = np.rint(inception_preds).astype(\"int\")\n",
    "inception_preds = inception_preds.reshape(len(index_0))"
   ]
  },
  {
   "cell_type": "markdown",
   "id": "edf34bfa",
   "metadata": {},
   "source": [
    "## CONFUSION MATRIX of PHASE -2"
   ]
  },
  {
   "cell_type": "code",
   "execution_count": 13,
   "id": "766ba434",
   "metadata": {},
   "outputs": [
    {
     "data": {
      "image/png": "[encoded data removed]",
      "text/plain": [
       "<Figure size 432x288 with 2 Axes>"
      ]
     },
     "metadata": {
      "needs_background": "light"
     },
     "output_type": "display_data"
    }
   ],
   "source": [
    "cm2 = confusion_matrix(inception_y ,inception_preds )\n",
    "plot_confusion_matrix(cm2,[\"Normal\",\"Pnumonia\"] )"
   ]
  },
  {
   "cell_type": "markdown",
   "id": "ae69c950",
   "metadata": {},
   "source": [
    "### Passing False Positives from Phase-1 to Phase-2 model"
   ]
  },
  {
   "cell_type": "code",
   "execution_count": 14,
   "id": "f0963758",
   "metadata": {},
   "outputs": [
    {
     "data": {
      "text/plain": [
       "((261, 128, 128, 3), (261,))"
      ]
     },
     "execution_count": 14,
     "metadata": {},
     "output_type": "execute_result"
    }
   ],
   "source": [
    "FN_x, FN_y = data_constructor(fnames_test,classes_test, DIM , index  =index_02 , bboxes = bboxes_test)\n",
    "FN_x = tf.keras.applications.inception_v3.preprocess_input(FN_x)\n",
    "FN_x.shape , FN_y.shape"
   ]
  },
  {
   "cell_type": "markdown",
   "id": "48f9df72",
   "metadata": {},
   "source": [
    "## CONFUSION MATRIX of False Positives of Phase-1"
   ]
  },
  {
   "cell_type": "code",
   "execution_count": 15,
   "id": "90aa21cd",
   "metadata": {},
   "outputs": [
    {
     "data": {
      "image/png": "[encoded data removed]",
      "text/plain": [
       "<Figure size 432x288 with 2 Axes>"
      ]
     },
     "metadata": {
      "needs_background": "light"
     },
     "output_type": "display_data"
    }
   ],
   "source": [
    "FN_preds = phase2_model.predict(FN_x)\n",
    "FN_preds = np.rint(FN_preds).astype(\"int\")\n",
    "FN_preds = FN_preds.reshape(len(index_02))\n",
    "cm3 = confusion_matrix(FN_y,FN_preds)\n",
    "plot_confusion_matrix(cm3,[\"Normal\",\"Pnumonia\",\"Covid-19\"] )"
   ]
  },
  {
   "cell_type": "markdown",
   "id": "f2c16ee1",
   "metadata": {},
   "source": [
    "## FINAL CONFUSION MATRIX OF ALL 3 CLASSES"
   ]
  },
  {
   "cell_type": "code",
   "execution_count": 16,
   "id": "57e9c97a",
   "metadata": {},
   "outputs": [
    {
     "data": {
      "image/png": "[encoded data removed]",
      "text/plain": [
       "<Figure size 432x288 with 2 Axes>"
      ]
     },
     "metadata": {
      "needs_background": "light"
     },
     "output_type": "display_data"
    }
   ],
   "source": [
    "cm =[[cm2[0,0] , cm2[0,1] , len(index_20)],\n",
    "    [cm2[1,0] , cm2[1,1] , len(index_21)],\n",
    "    [cm3[2,0] , cm3[2,1] , cm1[1,1]]]\n",
    "cm = np.array(cm)\n",
    "plot_confusion_matrix(cm,[\"Normal\",\"Pnumonia\",\"Covid-19\"] )"
   ]
  },
  {
   "cell_type": "markdown",
   "id": "daf80378",
   "metadata": {},
   "source": [
    "## FINAL ACCURACY"
   ]
  },
  {
   "cell_type": "code",
   "execution_count": 17,
   "id": "602024b0",
   "metadata": {},
   "outputs": [
    {
     "name": "stdout",
     "output_type": "stream",
     "text": [
      "Final Accuracy = 98.38%\n"
     ]
    }
   ],
   "source": [
    "final_accuracy = (cm[0,0]+cm[1,1]+cm[2,2]) / np.sum(cm)\n",
    "print(\"Final Accuracy = \"\"{:.2%}\".format(final_accuracy))"
   ]
  }
 ],
 "metadata": {
  "kernelspec": {
   "display_name": "Python 3",
   "language": "python",
   "name": "python3"
  },
  "language_info": {
   "codemirror_mode": {
    "name": "ipython",
    "version": 3
   },
   "file_extension": ".py",
   "mimetype": "text/x-python",
   "name": "python",
   "nbconvert_exporter": "python",
   "pygments_lexer": "ipython3",
   "version": "3.6.13"
  }
 },
 "nbformat": 4,
 "nbformat_minor": 5
}
