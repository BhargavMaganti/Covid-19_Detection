{
 "cells": [
  {
   "cell_type": "markdown",
   "id": "headed-least",
   "metadata": {},
   "source": [
    "## IMPORTS"
   ]
  },
  {
   "cell_type": "code",
   "execution_count": null,
   "id": "armed-curve",
   "metadata": {},
   "outputs": [],
   "source": [
    "import tensorflow as tf\n",
    "import numpy as np \n",
    "import pandas as pd\n",
    "import matplotlib.pyplot as plt\n",
    "import cv2\n",
    "import os\n",
    "import seaborn as sns\n",
    "sns.set(style = \"darkgrid\")"
   ]
  },
  {
   "cell_type": "code",
   "execution_count": null,
   "id": "collaborative-shareware",
   "metadata": {},
   "outputs": [],
   "source": [
    "from functions_phase_1 import data_constructor\n",
    "from functions_phase_1 import load_labels\n",
    "from functions_phase_1 import dataframe_generator\n",
    "from functions_phase_1 import index_generator\n",
    "from functions_phase_1 import train_index_updater"
   ]
  },
  {
   "cell_type": "markdown",
   "id": "selected-decade",
   "metadata": {},
   "source": [
    "## SETTING UP PARAMETERS AND DIRECTORIES"
   ]
  },
  {
   "cell_type": "code",
   "execution_count": null,
   "id": "valid-guest",
   "metadata": {},
   "outputs": [],
   "source": [
    "SEED = 12\n",
    "IMG_HEIGHT = 128\n",
    "IMG_WIDTH = 128\n",
    "DIM = (IMG_HEIGHT, IMG_WIDTH)\n",
    "TRAIN_SET= 143778\n",
    "VALID_SET= 25486\n",
    "EPOCHS = 40\n",
    "BS = 32\n",
    "n = 50000\n",
    "LR = 0.0001\n",
    "label_file_train = \"C:\\project\\data\\\\train_COVIDx_CT-2A.txt\"\n",
    "label_file_valid = \"C:\\project\\data\\\\val_COVIDx_CT-2A.txt\""
   ]
  },
  {
   "cell_type": "markdown",
   "id": "little-summer",
   "metadata": {},
   "source": [
    "## LOADING DATA"
   ]
  },
  {
   "cell_type": "code",
   "execution_count": null,
   "id": "curious-shelf",
   "metadata": {},
   "outputs": [],
   "source": [
    "fnames_train , classes_train ,bboxes_train = load_labels(label_file_train)\n",
    "fnames_valid , classes_valid ,bboxes_valid = load_labels(label_file_valid)\n",
    "train_index = index_generator(fnames_train , TRAIN_SET)\n",
    "valid_index = index_generator(fnames_valid , VALID_SET)\n",
    "train_index_updated = train_index_updater(classes_train,train_index,n )\n",
    "df = dataframe_generator(train_index_updated , valid_index , classes_train , classes_valid)\n",
    "df.plot.bar( title = \"Image Distribution\" );"
   ]
  },
  {
   "cell_type": "markdown",
   "id": "neutral-wallace",
   "metadata": {},
   "source": [
    "## Loading Training and Validation Images"
   ]
  },
  {
   "cell_type": "code",
   "execution_count": null,
   "id": "otherwise-market",
   "metadata": {},
   "outputs": [],
   "source": [
    "x_train, y_train = data_constructor(fnames_train,classes_train, DIM , index  =train_index_updated ,bboxes = bboxes_train )\n",
    "x_valid , y_valid= data_constructor(fnames_valid,classes_valid, DIM , index  =valid_index , bboxes = bboxes_valid)"
   ]
  },
  {
   "cell_type": "markdown",
   "id": "according-affect",
   "metadata": {},
   "source": [
    "## Pre-Processing"
   ]
  },
  {
   "cell_type": "code",
   "execution_count": null,
   "id": "processed-replica",
   "metadata": {},
   "outputs": [],
   "source": [
    "x_train = tf.keras.applications.densenet.preprocess_input(x_train)\n",
    "x_valid = tf.keras.applications.densenet.preprocess_input(x_valid)"
   ]
  },
  {
   "cell_type": "code",
   "execution_count": null,
   "id": "d46a6f7b",
   "metadata": {},
   "outputs": [],
   "source": [
    "for i in range(len(y_train)):\n",
    "    if y_train[i] ==1:\n",
    "        y_train[i]=0\n",
    "    if y_train[i] ==2:\n",
    "        y_train[i]=1\n",
    "for i in range(len(y_valid)):\n",
    "    if y_valid[i] ==1:\n",
    "        y_valid[i]=0\n",
    "    if y_valid[i]==2:\n",
    "        y_valid[i]=1"
   ]
  },
  {
   "cell_type": "code",
   "execution_count": null,
   "id": "irish-medicaid",
   "metadata": {},
   "outputs": [],
   "source": [
    "data_generator = tf.keras.preprocessing.image.ImageDataGenerator(horizontal_flip=True,zoom_range=0.05,width_shift_range=0.2 ,height_shift_range=0.1,shear_range=0.05)## ENTER YOUR AUG HERE\n",
    "train_generator = data_generator.flow(x_train, y_train, BS)\n",
    "spe = x_train.shape[0] // BS"
   ]
  },
  {
   "cell_type": "markdown",
   "id": "polished-dealer",
   "metadata": {},
   "source": [
    "## MODEL DESIGN"
   ]
  },
  {
   "cell_type": "code",
   "execution_count": null,
   "id": "honest-declaration",
   "metadata": {},
   "outputs": [],
   "source": [
    "from tensorflow.keras.applications import DenseNet201\n",
    "from tensorflow.keras.layers import GlobalAveragePooling2D\n",
    "from tensorflow.keras.layers import Dropout\n",
    "from tensorflow.keras.layers import Dense\n",
    "from tensorflow.keras.layers import Input\n",
    "from tensorflow.keras.models import Model\n",
    "from tensorflow.keras.layers import Dropout"
   ]
  },
  {
   "cell_type": "code",
   "execution_count": null,
   "id": "religious-creator",
   "metadata": {},
   "outputs": [],
   "source": [
    "base_model = DenseNet201(include_top=False,weights=\"imagenet\",input_shape=(IMG_HEIGHT,IMG_HEIGHT,3))\n",
    "model= tf.keras.Sequential()\n",
    "model.add(base_model) \n",
    "model.add(GlobalAveragePooling2D())\n",
    "model.add(Dense(64,activation=('relu'))) \n",
    "model.add(Dropout(.2))\n",
    "model.add(Dense(1,activation=('sigmoid')))"
   ]
  },
  {
   "cell_type": "code",
   "execution_count": null,
   "id": "joint-avenue",
   "metadata": {},
   "outputs": [],
   "source": [
    "model.summary()"
   ]
  },
  {
   "cell_type": "code",
   "execution_count": null,
   "id": "radio-anime",
   "metadata": {},
   "outputs": [],
   "source": [
    "model.compile(optimizer=tf.keras.optimizers.SGD(LR),\n",
    "              loss = \"binary_crossentropy\",\n",
    "              metrics = [\"accuracy\"])"
   ]
  },
  {
   "cell_type": "code",
   "execution_count": null,
   "id": "aerial-attachment",
   "metadata": {},
   "outputs": [],
   "source": [
    "from tensorflow.keras.callbacks import ModelCheckpoint\n",
    "modelsdir = \"models\"\n",
    "checkpoint = ModelCheckpoint(filepath = modelsdir + \"/SGD.{epoch:02d}-{val_accuracy:.4f}.h5\" ,\n",
    "                             monitor= \"val_accuracy\" , \n",
    "                             mode = \"max\",\n",
    "                            verbose = 0,\n",
    "                            save_best_only=True)"
   ]
  },
  {
   "cell_type": "code",
   "execution_count": null,
   "id": "closed-wonder",
   "metadata": {},
   "outputs": [],
   "source": [
    "r = model.fit(train_generator , validation_data=(x_valid, y_valid), steps_per_epoch = spe ,epochs=EPOCHS, callbacks = [checkpoint] ,verbose = 2 )"
   ]
  },
  {
   "cell_type": "code",
   "execution_count": null,
   "id": "transsexual-looking",
   "metadata": {},
   "outputs": [],
   "source": [
    "plt.plot(r.history[\"loss\"], label= \"Loss\")\n",
    "plt.plot(r.history[\"val_loss\"], label = \"val_Loss\")\n",
    "plt.legend();"
   ]
  },
  {
   "cell_type": "code",
   "execution_count": null,
   "id": "another-general",
   "metadata": {},
   "outputs": [],
   "source": [
    "plt.plot(r.history[\"accuracy\"] ,label = \"Accuracy\")\n",
    "plt.plot(r.history[\"val_accuracy\"] ,label = \"Val_Accuracy\")\n",
    "plt.legend();"
   ]
  },
  {
   "cell_type": "code",
   "execution_count": null,
   "id": "conditional-fitting",
   "metadata": {},
   "outputs": [],
   "source": [
    "pd.DataFrame(r.history).to_csv(\"densenet.csv\",index=False)"
   ]
  },
  {
   "cell_type": "code",
   "execution_count": null,
   "id": "athletic-tribune",
   "metadata": {},
   "outputs": [],
   "source": [
    "model.save(\"Densenet.h5\")"
   ]
  },
  {
   "cell_type": "markdown",
   "id": "adult-cincinnati",
   "metadata": {},
   "source": [
    "## MORE TRAINING"
   ]
  },
  {
   "cell_type": "code",
   "execution_count": null,
   "id": "illegal-termination",
   "metadata": {},
   "outputs": [],
   "source": [
    "LR = 0.001\n",
    "EPOCHS = 30"
   ]
  },
  {
   "cell_type": "code",
   "execution_count": null,
   "id": "unavailable-start",
   "metadata": {},
   "outputs": [],
   "source": [
    "model.compile(optimizer=tf.keras.optimizers.SGD(LR),\n",
    "              loss = \"binary_crossentropy\",\n",
    "              metrics = [\"accuracy\"])"
   ]
  },
  {
   "cell_type": "code",
   "execution_count": null,
   "id": "necessary-corrections",
   "metadata": {},
   "outputs": [],
   "source": [
    "from tensorflow.keras.callbacks import ModelCheckpoint\n",
    "modelsdir = \"models\"\n",
    "checkpoint = ModelCheckpoint(filepath = modelsdir + \"/(mt)SGD.{epoch:02d}-{val_accuracy:.4f}.h5\" ,\n",
    "                             monitor= \"val_accuracy\" , \n",
    "                             mode = \"max\",\n",
    "                            verbose = 0,\n",
    "                            save_best_only=True)"
   ]
  },
  {
   "cell_type": "code",
   "execution_count": null,
   "id": "african-scroll",
   "metadata": {},
   "outputs": [],
   "source": [
    "s = model.fit(train_generator , validation_data=(x_valid, y_valid), steps_per_epoch = spe ,epochs=EPOCHS, callbacks = [checkpoint] ,verbose = 2 )"
   ]
  },
  {
   "cell_type": "code",
   "execution_count": null,
   "id": "executive-multiple",
   "metadata": {},
   "outputs": [],
   "source": [
    "plt.plot(s.history[\"loss\"], label= \"Loss\")\n",
    "plt.plot(s.history[\"val_loss\"], label = \"val_Loss\")\n",
    "plt.legend();"
   ]
  },
  {
   "cell_type": "code",
   "execution_count": null,
   "id": "incoming-communist",
   "metadata": {},
   "outputs": [],
   "source": [
    "plt.plot(s.history[\"accuracy\"] ,label = \"Accuracy\")\n",
    "plt.plot(s.history[\"val_accuracy\"] ,label = \"Val_Accuracy\")\n",
    "plt.legend();"
   ]
  },
  {
   "cell_type": "code",
   "execution_count": null,
   "id": "binding-retirement",
   "metadata": {},
   "outputs": [],
   "source": [
    "pd.DataFrame(s.history).to_csv(\"densenet-2.csv\",index=False)"
   ]
  },
  {
   "cell_type": "code",
   "execution_count": null,
   "id": "aquatic-chance",
   "metadata": {},
   "outputs": [],
   "source": [
    "model.save(\"Densenet-2.h5\")"
   ]
  },
  {
   "cell_type": "markdown",
   "id": "c79175c9",
   "metadata": {},
   "source": [
    "### Loading Combined CSV for plots"
   ]
  },
  {
   "cell_type": "code",
   "execution_count": null,
   "id": "senior-turkey",
   "metadata": {},
   "outputs": [],
   "source": [
    "history = pd.read_csv(\"csv/densenet-combined.csv\")"
   ]
  },
  {
   "cell_type": "code",
   "execution_count": null,
   "id": "removed-preparation",
   "metadata": {},
   "outputs": [],
   "source": [
    "plt.plot(history[\"loss\"], label= \"Loss\")\n",
    "plt.plot(history[\"val_loss\"], label = \"val_Loss\")\n",
    "plt.legend();"
   ]
  },
  {
   "cell_type": "code",
   "execution_count": null,
   "id": "improving-bargain",
   "metadata": {},
   "outputs": [],
   "source": [
    "plt.plot(history[\"accuracy\"] ,label = \"Accuracy\")\n",
    "plt.plot(history[\"val_accuracy\"] ,label = \"Val_Accuracy\")\n",
    "plt.legend();"
   ]
  },
  {
   "cell_type": "code",
   "execution_count": null,
   "id": "intelligent-skill",
   "metadata": {},
   "outputs": [],
   "source": [
    "history.plot();"
   ]
  }
 ],
 "metadata": {
  "kernelspec": {
   "display_name": "Python 3",
   "language": "python",
   "name": "python3"
  },
  "language_info": {
   "codemirror_mode": {
    "name": "ipython",
    "version": 3
   },
   "file_extension": ".py",
   "mimetype": "text/x-python",
   "name": "python",
   "nbconvert_exporter": "python",
   "pygments_lexer": "ipython3",
   "version": "3.6.13"
  }
 },
 "nbformat": 4,
 "nbformat_minor": 5
}
